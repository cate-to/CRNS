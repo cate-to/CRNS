{
 "cells": [
  {
   "cell_type": "code",
   "execution_count": 4,
   "id": "4c8e1938-53c8-42e2-8325-30c25851cf51",
   "metadata": {},
   "outputs": [
    {
     "name": "stdin",
     "output_type": "stream",
     "text": [
      "ho finito blll \n"
     ]
    },
    {
     "data": {
      "text/plain": [
       "''"
      ]
     },
     "execution_count": 4,
     "metadata": {},
     "output_type": "execute_result"
    }
   ],
   "source": [
    "import pandas as pd\n",
    "\n",
    "df = pd.read_csv('C:/Users/Caterina/Desktop/neutroni_dati/datiFinapp.csv', parse_dates=['#Datetime'])\n",
    "# Definisci l'intervallo temporale completo\n",
    "start = df['#Datetime'].min()\n",
    "end = df['#Datetime'].max()\n",
    "\n",
    "df = df.drop_duplicates(subset='#Datetime')\n",
    "\n",
    "\n",
    "\n",
    "new_index = pd.date_range(start=start, end=end, freq='H')\n",
    "df = df.set_index('#Datetime').reindex(new_index)\n",
    "\n",
    "\n",
    "df.to_csv('C:/Users/Caterina/Desktop/neutroni_dati/finappCorretti.csv')\n"
   ]
  },
  {
   "cell_type": "code",
   "execution_count": null,
   "id": "60334bc4-6cc1-4e98-a58f-3b12fed05ae7",
   "metadata": {},
   "outputs": [],
   "source": []
  }
 ],
 "metadata": {
  "kernelspec": {
   "display_name": "Python 3 (ipykernel)",
   "language": "python",
   "name": "python3"
  },
  "language_info": {
   "codemirror_mode": {
    "name": "ipython",
    "version": 3
   },
   "file_extension": ".py",
   "mimetype": "text/x-python",
   "name": "python",
   "nbconvert_exporter": "python",
   "pygments_lexer": "ipython3",
   "version": "3.8.17"
  }
 },
 "nbformat": 4,
 "nbformat_minor": 5
}
