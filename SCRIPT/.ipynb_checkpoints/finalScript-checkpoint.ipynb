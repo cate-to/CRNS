{
 "cells": [
  {
   "cell_type": "code",
   "execution_count": 2,
   "id": "890406d0-bc40-4d35-893a-b0050420e2f7",
   "metadata": {},
   "outputs": [],
   "source": [
    "#CONSTANTS \n",
    "\n",
    "#atmospheric corrections\n",
    "NINC_REF = 150\n",
    "RH_REF = 0\n",
    "ALPHA = 0.0054\n",
    "BETA = 0.0076\n",
    "P_REF = 973.4\n",
    "\n",
    "#conversion to soil moisture\n",
    "A0 = 0.0808\n",
    "A1 = 0.372\n",
    "A2 = 0.115\n",
    "N0 = 1577\n",
    "BD = 1.5\n",
    "theta_offset = 0\n",
    "\n",
    "###################################################\n",
    "\n",
    "\n",
    "import pandas as pd\n",
    "import csv\n",
    "import numpy\n",
    "import matplotlib.pyplot as plt\n",
    "\n",
    "\n",
    "def prepareFiles(filename):\n",
    "    df = pd.read_csv('C:/Users/Caterina/Desktop/neutroni_dati/SCRIPT/' + filename + '.csv', sep=';', parse_dates=['#Datetime'])\n",
    "    start = df['#Datetime'].min()\n",
    "    end = df['#Datetime'].max()\n",
    "    df = df.drop_duplicates(subset='#Datetime')\n",
    "    new_index = pd.date_range(start=start, end=end, freq='H')\n",
    "    df = df.set_index('#Datetime').reindex(new_index)\n",
    "    df.to_csv('C:/Users/Caterina/Desktop/neutroni_dati/SCRIPT/ELABORATIONS/' + filename + '_corretto.csv')\n",
    "\n",
    "\n",
    "\n",
    "def main():\n",
    "    print(\"Starting up...\")\n",
    "    print(\"You'll need three types of file in the same folder as this script: raw.csv, incoming.csv, ERG5.csv, finapp.csv. \\n\")\n",
    "    input(\"Check that they're there and press any key to continue. \\n\\n\")\n",
    "    print(\"Reading and tidying data...\", end=\"\")\n",
    "    prepareFiles('raw')\n",
    "    prepareFiles('incoming')\n",
    "    prepareFiles('ERG5')\n",
    "    prepareFiles('finapp')\n",
    "    print(\"Done!\\n\")\n",
    "\n",
    "#fill holes in datasets\n",
    "#datasets used are: raw data from finapp, elaborated data from finapp, incoming data from https://www.nmdb.eu/nest/search.php, hourly ERG5 data (prec, tavg, RH)\n",
    "\n",
    "\n"
   ]
  },
  {
   "cell_type": "code",
   "execution_count": null,
   "id": "12cd45c4-4bb1-45ff-8e62-8299eb384352",
   "metadata": {},
   "outputs": [],
   "source": []
  }
 ],
 "metadata": {
  "kernelspec": {
   "display_name": "Python 3 (ipykernel)",
   "language": "python",
   "name": "python3"
  },
  "language_info": {
   "codemirror_mode": {
    "name": "ipython",
    "version": 3
   },
   "file_extension": ".py",
   "mimetype": "text/x-python",
   "name": "python",
   "nbconvert_exporter": "python",
   "pygments_lexer": "ipython3",
   "version": "3.8.17"
  }
 },
 "nbformat": 4,
 "nbformat_minor": 5
}
